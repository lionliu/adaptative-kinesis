{
 "cells": [
  {
   "cell_type": "code",
   "execution_count": 8,
   "metadata": {},
   "outputs": [],
   "source": [
    "from controllers import PIDController, HPAController"
   ]
  },
  {
   "cell_type": "code",
   "execution_count": 2,
   "metadata": {},
   "outputs": [],
   "source": [
    "def adapt_kinesis(current_active_shard_count, controller_output):\n",
    "    upper_limit = current_active_shard_count * 2\n",
    "    lower_limit = current_active_shard_count // 2\n",
    "\n",
    "    controller_output = max(min(controller_output, upper_limit), lower_limit)\n",
    "\n",
    "    return controller_output"
   ]
  },
  {
   "cell_type": "code",
   "execution_count": 3,
   "metadata": {},
   "outputs": [],
   "source": [
    "shared_dict = {\n",
    "    \"prev_error\": 0,\n",
    "    \"sum_prev_errors\": 0,\n",
    "}\n",
    "pid_controller = PIDController(kp=0.0001, ki=0.0003, kd=0, min_val=1, max_val=5, setpoint=-1)"
   ]
  },
  {
   "cell_type": "code",
   "execution_count": 6,
   "metadata": {},
   "outputs": [
    {
     "name": "stdout",
     "output_type": "stream",
     "text": [
      "Proportional:  -0.2\n",
      "Integral:  3.3\n",
      "Diff:  0.0\n",
      "Before limits\n",
      "3.0999999999999996\n",
      "Proportional:  -0.2\n",
      "Integral:  2.6999999999999997\n",
      "Diff:  0.0\n",
      "Before limits\n",
      "2.4999999999999996\n",
      "Proportional:  -0.1\n",
      "Integral:  2.0999999999999996\n",
      "Diff:  0.0\n",
      "Before limits\n",
      "1.9999999999999996\n"
     ]
    }
   ],
   "source": [
    "goal = 3000\n",
    "plant_output = 1000\n",
    "i = 0\n",
    "experiment_iterations = []\n",
    "\n",
    "while goal != plant_output and i < 1000:\n",
    "\n",
    "    controller_output = pid_controller.update(goal, plant_output, shared_dict)\n",
    "    adapt_kinesis_output = adapt_kinesis(goal // 1000, controller_output)\n",
    "\n",
    "    goal = adapt_kinesis_output * 1000\n",
    "\n",
    "    experiment_iterations.append({\n",
    "        \"iteration\": i,\n",
    "        \"goal\": goal,\n",
    "        \"plant_output\": plant_output,\n",
    "        \"controller_output\": controller_output,\n",
    "        \"adapt_kinesis_output\": adapt_kinesis_output,\n",
    "    })\n",
    "\n",
    "    i += 1"
   ]
  },
  {
   "cell_type": "code",
   "execution_count": 7,
   "metadata": {},
   "outputs": [
    {
     "data": {
      "text/plain": [
       "[{'iteration': 0,\n",
       "  'goal': 3000,\n",
       "  'plant_output': 1000,\n",
       "  'controller_output': 3,\n",
       "  'adapt_kinesis_output': 3},\n",
       " {'iteration': 1,\n",
       "  'goal': 2000,\n",
       "  'plant_output': 1000,\n",
       "  'controller_output': 2,\n",
       "  'adapt_kinesis_output': 2},\n",
       " {'iteration': 2,\n",
       "  'goal': 1000,\n",
       "  'plant_output': 1000,\n",
       "  'controller_output': 1,\n",
       "  'adapt_kinesis_output': 1}]"
      ]
     },
     "execution_count": 7,
     "metadata": {},
     "output_type": "execute_result"
    }
   ],
   "source": [
    "experiment_iterations"
   ]
  },
  {
   "cell_type": "code",
   "execution_count": 9,
   "metadata": {},
   "outputs": [],
   "source": [
    "hpa = HPAController(1, 5)"
   ]
  },
  {
   "cell_type": "code",
   "execution_count": 11,
   "metadata": {},
   "outputs": [
    {
     "data": {
      "text/plain": [
       "2"
      ]
     },
     "execution_count": 11,
     "metadata": {},
     "output_type": "execute_result"
    }
   ],
   "source": [
    "hpa.update(5000, 1200, 5)"
   ]
  },
  {
   "cell_type": "code",
   "execution_count": null,
   "metadata": {},
   "outputs": [],
   "source": []
  }
 ],
 "metadata": {
  "kernelspec": {
   "display_name": "Python 3",
   "language": "python",
   "name": "python3"
  },
  "language_info": {
   "codemirror_mode": {
    "name": "ipython",
    "version": 3
   },
   "file_extension": ".py",
   "mimetype": "text/x-python",
   "name": "python",
   "nbconvert_exporter": "python",
   "pygments_lexer": "ipython3",
   "version": "3.9.11"
  }
 },
 "nbformat": 4,
 "nbformat_minor": 2
}
